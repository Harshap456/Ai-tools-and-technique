{
 "cells": [
  {
   "cell_type": "code",
   "execution_count": 15,
   "metadata": {},
   "outputs": [],
   "source": [
    "import numpy as np"
   ]
  },
  {
   "cell_type": "code",
   "execution_count": 16,
   "metadata": {},
   "outputs": [],
   "source": [
    "import matplotlib"
   ]
  },
  {
   "cell_type": "code",
   "execution_count": 17,
   "metadata": {},
   "outputs": [],
   "source": [
    "from matplotlib import pyplot as plt"
   ]
  },
  {
   "cell_type": "code",
   "execution_count": 18,
   "metadata": {},
   "outputs": [],
   "source": [
    "import pandas as pd"
   ]
  },
  {
   "cell_type": "code",
   "execution_count": 19,
   "metadata": {},
   "outputs": [
    {
     "name": "stdout",
     "output_type": "stream",
     "text": [
      "(97, 2)\n"
     ]
    }
   ],
   "source": [
    "data=pd.read_csv(\"profitdataset.txt\")\n",
    "print(data.shape) "
   ]
  },
  {
   "cell_type": "code",
   "execution_count": 20,
   "metadata": {},
   "outputs": [],
   "source": [
    "x=data['population'].values\n",
    "y=data['profit'].values"
   ]
  },
  {
   "cell_type": "code",
   "execution_count": 21,
   "metadata": {},
   "outputs": [],
   "source": [
    "plt.scatter(x,y,40,c='r',label='scatter_data',marker='x')\n",
    "plt.xlabel(\"population\")\n",
    "plt.ylabel('profit')\n",
    "plt.title('food_truck_profit_graph')\n",
    "plt.grid(True,color='k')\n",
    "plt.show()"
   ]
  },
  {
   "cell_type": "code",
   "execution_count": 22,
   "metadata": {},
   "outputs": [
    {
     "data": {
      "text/plain": [
       "8.159799999999999"
      ]
     },
     "execution_count": 22,
     "metadata": {},
     "output_type": "execute_result"
    }
   ],
   "source": [
    "mean_x=np.mean(x) \n",
    "mean_y=np.mean(y) \n",
    "n=len(x) \n",
    "mean_x"
   ]
  },
  {
   "cell_type": "code",
   "execution_count": 23,
   "metadata": {},
   "outputs": [
    {
     "name": "stdout",
     "output_type": "stream",
     "text": [
      "1.193033644189594 -3.8957808783118537\n"
     ]
    }
   ],
   "source": [
    "num=0\n",
    "den=0\n",
    "for i in range(n) :\n",
    "    num=num+((x[i]-mean_x)*(y[i]-mean_y)) \n",
    "    den=den+((x[i]-mean_x)**2)\n",
    "m=num/den\n",
    "c=mean_y-(m*mean_x) \n",
    "print(m,c) "
   ]
  },
  {
   "cell_type": "code",
   "execution_count": 24,
   "metadata": {},
   "outputs": [
    {
     "name": "stdout",
     "output_type": "stream",
     "text": [
      "[2.59062374 2.59062374 2.59062374 2.59062374 2.59062374 2.59062374\n",
      " 2.59062374 2.59062374 2.59062374 2.59062374 2.59062374 2.59062374\n",
      " 2.59062374 2.59062374 2.59062374 2.59062374 2.59062374 2.59062374\n",
      " 2.59062374 2.59062374 2.59062374 2.59062374 2.59062374 2.59062374\n",
      " 2.59062374 2.59062374 2.59062374 2.59062374 2.59062374 2.59062374\n",
      " 2.59062374 2.59062374 2.59062374 2.59062374 2.59062374 2.59062374\n",
      " 2.59062374 2.59062374 2.59062374 2.59062374 2.59062374 2.59062374\n",
      " 2.59062374 2.59062374 2.59062374 2.59062374 2.59062374 2.59062374\n",
      " 2.59062374 2.59062374 2.59062374 2.59062374 2.59062374 2.59062374\n",
      " 2.59062374 2.59062374 2.59062374 2.59062374 2.59062374 2.59062374\n",
      " 2.59062374 2.59062374 2.59062374 2.59062374 2.59062374 2.59062374\n",
      " 2.59062374 2.59062374 2.59062374 2.59062374 2.59062374 2.59062374\n",
      " 2.59062374 2.59062374 2.59062374 2.59062374 2.59062374 2.59062374\n",
      " 2.59062374 2.59062374 2.59062374 2.59062374 2.59062374 2.59062374\n",
      " 2.59062374 2.59062374 2.59062374 2.59062374 2.59062374 2.59062374\n",
      " 2.59062374 2.59062374 2.59062374 2.59062374 2.59062374 2.59062374\n",
      " 2.59062374]\n"
     ]
    }
   ],
   "source": [
    "y_pred=np.array([])\n",
    "for I in range(n):\n",
    "    p=(m*x[i])+c\n",
    "    y_pred=np.append(y_pred,np.array([p]),axis=0) \n",
    "print(y_pred) \n",
    "    "
   ]
  },
  {
   "cell_type": "code",
   "execution_count": 25,
   "metadata": {},
   "outputs": [],
   "source": [
    "plt.plot(x,y_pred,color='m',label=\"regression_line\")\n",
    "#plot the actual data\n",
    "plt.scatter(x,y,40,c='g',label=\"actual_data\",marker='o')\n",
    "plt.scatter(x,y_pred,40,c='k',label=\"predicted_data\",marker='x')\n",
    "plt.xlabel(\"population\")\n",
    "plt.ylabel('profit')\n",
    "plt.legend()\n",
    "plt.show()"
   ]
  },
  {
   "cell_type": "code",
   "execution_count": 26,
   "metadata": {},
   "outputs": [
    {
     "data": {
      "text/plain": [
       "0.35117592025811145"
      ]
     },
     "execution_count": 26,
     "metadata": {},
     "output_type": "execute_result"
    }
   ],
   "source": [
    "nu=0\n",
    "de=0\n",
    "for i in range(n):\n",
    " nu=nu+((y_pred[i]-mean_y)**2) #predicted values of y\n",
    " de=de+((y[i]-mean_y)**2) #actual values of y\n",
    "r2=nu/de\n",
    "r2\n",
    "#r square ranges from 0 to 1 if >0.7. then its good fit line"
   ]
  },
  {
   "cell_type": "code",
   "execution_count": 27,
   "metadata": {},
   "outputs": [
    {
     "data": {
      "text/plain": [
       "array([ 6.1101,  5.5277,  8.5186,  7.0032,  5.8598,  8.3829,  7.4764,\n",
       "        8.5781,  6.4862,  5.0546,  5.7107, 14.164 ,  5.734 ,  8.4084,\n",
       "        5.6407,  5.3794,  6.3654,  5.1301,  6.4296,  7.0708,  6.1891,\n",
       "       20.27  ,  5.4901,  6.3261,  5.5649, 18.945 , 12.828 , 10.957 ,\n",
       "       13.176 , 22.203 ,  5.2524,  6.5894,  9.2482,  5.8918,  8.2111,\n",
       "        7.9334,  8.0959,  5.6063, 12.836 ,  6.3534,  5.4069,  6.8825,\n",
       "       11.708 ,  5.7737,  7.8247,  7.0931,  5.0702,  5.8014, 11.7   ,\n",
       "        5.5416,  7.5402,  5.3077,  7.4239,  7.6031,  6.3328,  6.3589,\n",
       "        6.2742,  5.6397,  9.3102,  9.4536,  8.8254,  5.1793, 21.279 ,\n",
       "       14.908 , 18.959 ,  7.2182,  8.2951, 10.236 ,  5.4994, 20.341 ,\n",
       "       10.136 ,  7.3345,  6.0062,  7.2259,  5.0269,  6.5479,  7.5386,\n",
       "        5.0365, 10.274 ,  5.1077,  5.7292,  5.1884,  6.3557,  9.7687,\n",
       "        6.5159,  8.5172,  9.1802,  6.002 ,  5.5204,  5.0594,  5.7077,\n",
       "        7.6366,  5.8707,  5.3054,  8.2934, 13.394 ,  5.4369])"
      ]
     },
     "execution_count": 27,
     "metadata": {},
     "output_type": "execute_result"
    }
   ],
   "source": [
    "x"
   ]
  },
  {
   "cell_type": "code",
   "execution_count": 28,
   "metadata": {},
   "outputs": [
    {
     "name": "stdout",
     "output_type": "stream",
     "text": [
      "profit from 45000 people city is  [14728.70520541] $\n",
      "profit from 65000 people city is  [38589.37808921] $\n"
     ]
    }
   ],
   "source": [
    "X_test = np.array([[4.5],[6.5]])\n",
    "y1=(m*X_test[0])+c\n",
    "y2=(m*X_test[1])+c\n",
    "print('profit from 45000 people city is ',y1*10000,'$')\n",
    "print('profit from 65000 people city is ',y2*10000,'$')"
   ]
  },
  {
   "cell_type": "code",
   "execution_count": null,
   "metadata": {},
   "outputs": [],
   "source": []
  }
 ],
 "metadata": {
  "kernelspec": {
   "display_name": "Python 3",
   "language": "python",
   "name": "python3"
  },
  "language_info": {
   "codemirror_mode": {
    "name": "ipython",
    "version": 3
   },
   "file_extension": ".py",
   "mimetype": "text/x-python",
   "name": "python",
   "nbconvert_exporter": "python",
   "pygments_lexer": "ipython3",
   "version": "3.8.3"
  }
 },
 "nbformat": 4,
 "nbformat_minor": 4
}
